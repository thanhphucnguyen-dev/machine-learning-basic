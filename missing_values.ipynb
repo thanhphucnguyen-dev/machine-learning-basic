{
  "nbformat": 4,
  "nbformat_minor": 0,
  "metadata": {
    "colab": {
      "provenance": []
    },
    "kernelspec": {
      "name": "python3",
      "display_name": "Python 3"
    },
    "language_info": {
      "name": "python"
    }
  },
  "cells": [
    {
      "cell_type": "code",
      "execution_count": 48,
      "metadata": {
        "colab": {
          "base_uri": "https://localhost:8080/"
        },
        "id": "kqiYC36IrI2f",
        "outputId": "8557fb05-d978-4efa-b902-ff65753eb508"
      },
      "outputs": [
        {
          "output_type": "stream",
          "name": "stdout",
          "text": [
            "Kiểu dữ liệu ban đầu của các cột:\n",
            "0    float64\n",
            "1    float64\n",
            "dtype: object\n",
            "Dữ liệu sau khi chuyển đổi thành số:\n",
            "     0    1\n",
            "0  1.0  2.0\n",
            "1  NaN  4.0\n",
            "2  5.0  6.0\n",
            "3  NaN  NaN\n",
            "4  9.0  4.0\n",
            "\n",
            "== Dữ liệu sau khi xử lý missing values ==\n",
            "[[1. 2.]\n",
            " [5. 4.]\n",
            " [5. 6.]\n",
            " [5. 4.]\n",
            " [9. 4.]]\n"
          ]
        }
      ],
      "source": [
        "# Missing values (giá trị thiếu): việc xử lý là quan trọng để đảm bảo dữ liệu sạch và có thể phân tích được.\n",
        "# Pandas cung cấp nhiều phương pháp xử lý khác nhau để xử lý missing value trong DataFrame.\n",
        "\n",
        "# 1. Kiểm tra missing values:\n",
        "\n",
        "# ----\n",
        "import numpy as np\n",
        "import pandas as pd\n",
        "from sklearn.impute import SimpleImputer\n",
        "\n",
        "# Đọc dữ liệu từ tệp CSV (thay đổi nếu cần thiết)\n",
        "data = pd.read_csv('test_missing_values.csv', header=None, sep=';', encoding='latin1')\n",
        "\n",
        "# Kiểm tra kiểu dữ liệu của các cột\n",
        "print(\"Kiểu dữ liệu ban đầu của các cột:\")\n",
        "print(data.dtypes)\n",
        "\n",
        "# Thay thế dấu phân cách (nếu cần thiết) và chuyển đổi các giá trị thành số\n",
        "data = data.replace(';', ',', regex=True)\n",
        "data = data.apply(pd.to_numeric, errors='coerce')  # Chuyển đổi các giá trị không phải số thành NaN\n",
        "\n",
        "# Kiểm tra lại dữ liệu đã chuyển đổi\n",
        "print(\"Dữ liệu sau khi chuyển đổi thành số:\")\n",
        "print(data)\n",
        "\n",
        "# Áp dụng SimpleImputer với chiến lược 'mean' để thay thế giá trị thiếu\n",
        "\n",
        "imp = SimpleImputer(missing_values=np.nan, strategy='mean')\n",
        "X = data.values\n",
        "imp.fit(X)\n",
        "result = imp.transform(X)\n",
        "\n",
        "print(\"\\n== Dữ liệu sau khi xử lý missing values ==\")\n",
        "print(result)\n",
        "\n"
      ]
    },
    {
      "cell_type": "code",
      "source": [],
      "metadata": {
        "id": "xuXNa11UDymO"
      },
      "execution_count": 44,
      "outputs": []
    }
  ]
}