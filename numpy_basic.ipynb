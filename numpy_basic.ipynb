{
  "nbformat": 4,
  "nbformat_minor": 0,
  "metadata": {
    "colab": {
      "provenance": []
    },
    "kernelspec": {
      "name": "python3",
      "display_name": "Python 3"
    },
    "language_info": {
      "name": "python"
    }
  },
  "cells": [
    {
      "cell_type": "code",
      "execution_count": 16,
      "metadata": {
        "colab": {
          "base_uri": "https://localhost:8080/"
        },
        "id": "SUBRXBobPmiF",
        "outputId": "600b2fa2-dca0-41c2-9a53-f42e647a2cb5"
      },
      "outputs": [
        {
          "output_type": "stream",
          "name": "stdout",
          "text": [
            "Kích thước mảng:  (3,)\n",
            "Kiểu dữ liệu:  int64\n",
            "Số chiều:  2\n",
            "Số phần tử:  4\n",
            "Mảng toàn số 0: \n",
            " [[0. 0. 0.]\n",
            " [0. 0. 0.]]\n",
            "Mảng toàn số 1: \n",
            " [[1. 1. 1.]\n",
            " [1. 1. 1.]\n",
            " [1. 1. 1.]]\n",
            "Ma trận đơn vị: \n",
            " [[1. 0. 0.]\n",
            " [0. 1. 0.]\n",
            " [0. 0. 1.]]\n",
            "Mảng cách đều nhau:  [0 2 4 6 8]\n",
            "Tạo mảng với số phần tử đều nhau từ đầu->cuối:  [0.   0.25 0.5  0.75 1.  ]\n"
          ]
        }
      ],
      "source": [
        "'''\n",
        "Numpy (Numerical Python) là thư viện hỗ trợ:\n",
        "  - Làm việc với mảng nhiều chiểu.\n",
        "  - Các phép toán ma trận và đại số tuyến tính.\n",
        "  - Tối ưu hóa hiệu suất tính toán nhanh hơn nhiều so với list thông thường trong Python.\n",
        "'''\n",
        "# Cài đặt Numpy:  pip install numpy\n",
        "\n",
        "# IMPORT THƯ VIỆN\n",
        "import numpy as np\n",
        "\n",
        "# TẠO MẢNG NUMPY\n",
        "a = np.array([1, 2, 3]) #mảng 1 chiểu\n",
        "b = np.array([[1, 2], [3, 4]])  #mảng 2 chiểu\n",
        "\n",
        "# KIỂM TRA THÔNG TIN MẢNG\n",
        "print(\"Kích thước mảng: \", a.shape)\n",
        "print(\"Kiểu dữ liệu: \", a.dtype)\n",
        "print(\"Số chiều: \", b.ndim)\n",
        "print(\"Số phần tử: \", b.size)\n",
        "\n",
        "# TẠO MẢNG ĐẶC BIỆT\n",
        "print(\"Mảng toàn số 0: \\n\", np.zeros((2, 3)))\n",
        "print(\"Mảng toàn số 1: \\n\", np.ones((3, 3)))\n",
        "print(\"Ma trận đơn vị: \\n\", np.eye(3))\n",
        "print(\"Mảng cách đều nhau: \", np.arange(0, 10, 2))  # [0 2 4 6 8]\n",
        "print(\"Tạo mảng với số phần tử đều nhau từ đầu->cuối: \", np.linspace(0, 1, 5)) # [0.   0.25 0.5  0.75 1.]\n",
        "\n"
      ]
    },
    {
      "cell_type": "code",
      "source": [
        "# CÁC PHÉP TOÁN\n",
        "x = np.array([1, 2, 3])\n",
        "y = np.array([4, 5, 6])\n",
        "\n",
        "print(\"Tổng 2 mảng: \", x + y)\n",
        "print(\"Hiệu 2 mảng: \", x - y)\n",
        "print(\"Tích 2 mảng: \", x * y)\n",
        "print(\"Thương 2 mảng: \", x / y)\n",
        "print(\"Phép lũy thừa: \", x ** y)\n",
        "print(\"Phép chia lấy phần dư: \", x % y)\n",
        "print(\"Phép tích vô hướng: \", x.dot(y)) # Tích vô hướng = 1*4 + 2*5 + 3*6 = 32\n",
        "\n",
        "# TRUY CẬP MẢNG & CẮT MẢNG\n",
        "t = np.array([[1, 2, 3],\n",
        "              [4, 5, 6]]\n",
        "            )\n",
        "#dòng 0: [1, 2, 3]\n",
        "# dòng 1: [4, 5, 6]\n",
        "\n",
        "print(t[0, 1])  # lấy dòng 0, cột 1\n",
        "print(t[:, 1])  # lấy tất cả dòng, nhưng chỉ cột 1 [2, 5]\n",
        "print(t[1, :])  # Lấy dòng 1, tất cả cột [4 5 6]\n",
        "print(t[1, ...]) # Lấy tất cả mọi thứ còn lại sau khi chọn trục đầu tiên = 1\n",
        "\n"
      ],
      "metadata": {
        "colab": {
          "base_uri": "https://localhost:8080/"
        },
        "id": "LOLvyrdlVo5O",
        "outputId": "5fae0c5f-6bfe-4e5a-f77d-5eddff4d7860"
      },
      "execution_count": 17,
      "outputs": [
        {
          "output_type": "stream",
          "name": "stdout",
          "text": [
            "Tổng 2 mảng:  [5 7 9]\n",
            "Hiệu 2 mảng:  [-3 -3 -3]\n",
            "Tích 2 mảng:  [ 4 10 18]\n",
            "Thương 2 mảng:  [0.25 0.4  0.5 ]\n",
            "Phép lũy thừa:  [  1  32 729]\n",
            "Phép chia lấy phần dư:  [1 2 3]\n",
            "Phép tích vô hướng:  32\n",
            "2\n",
            "[2 5]\n",
            "[4 5 6]\n",
            "[4 5 6]\n"
          ]
        }
      ]
    },
    {
      "cell_type": "code",
      "source": [],
      "metadata": {
        "id": "1gKcnst6g53p"
      },
      "execution_count": null,
      "outputs": []
    }
  ]
}