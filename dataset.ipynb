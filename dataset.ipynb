{
  "nbformat": 4,
  "nbformat_minor": 0,
  "metadata": {
    "colab": {
      "provenance": []
    },
    "kernelspec": {
      "name": "python3",
      "display_name": "Python 3"
    },
    "language_info": {
      "name": "python"
    }
  },
  "cells": [
    {
      "cell_type": "code",
      "execution_count": 14,
      "metadata": {
        "colab": {
          "base_uri": "https://localhost:8080/"
        },
        "id": "kqiYC36IrI2f",
        "outputId": "f6263715-9c00-4941-9bc5-c6a3eeb477de"
      },
      "outputs": [
        {
          "output_type": "stream",
          "name": "stdout",
          "text": [
            "[1]\n",
            "0.9736842105263158\n"
          ]
        }
      ],
      "source": [
        "# DATASET\n",
        "import numpy as np\n",
        "from sklearn.datasets import load_iris\n",
        "from sklearn.model_selection import train_test_split\n",
        "from sklearn.tree import DecisionTreeClassifier\n",
        "\n",
        "iris_dataset = load_iris()\n",
        "X_train, X_test, y_train, y_test = train_test_split(iris_dataset.data, iris_dataset.target, random_state=0)\n",
        "# random_state: dùng để giữ nguyên cách chia ngẫu nhiên mỗi lần chạy code\n",
        "# print(X_train)\n",
        "# print(X_test)\n",
        "# print(y_train)\n",
        "# print(y_test)\n",
        "# print(type(X_train))\n",
        "\n",
        "# Khởi tạo model\n",
        "model = DecisionTreeClassifier()\n",
        "# Traning\n",
        "mymodel = model.fit(X_train, y_train)\n",
        "\n",
        "# Dữ liệu mới\n",
        "X_new = np.array([[6.0, 3.23, 4.5, 2.0]])\n",
        "\n",
        "# Dự đoán kết quả\n",
        "print(mymodel.predict(X_new))\n",
        "\n",
        "# Đo độ chính xác\n",
        "print(mymodel.score(X_test, y_test))\n",
        "\n",
        "\n"
      ]
    }
  ]
}